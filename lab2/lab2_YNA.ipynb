{
 "cells": [
  {
   "cell_type": "code",
   "execution_count": 1,
   "metadata": {},
   "outputs": [],
   "source": [
    "import mlflow\n",
    "import pandas as pd\n",
    "import numpy as np\n",
    "from sklearn.model_selection import train_test_split\n",
    "from sklearn.preprocessing import StandardScaler\n",
    "from sklearn.linear_model import LogisticRegression\n",
    "from sklearn.tree import DecisionTreeClassifier\n",
    "from sklearn.ensemble import RandomForestClassifier\n",
    "from sklearn.metrics import accuracy_score\n",
    "from hyperopt import fmin, tpe, hp, STATUS_OK, Trials\n",
    "from sklearn.model_selection import cross_val_score\n",
    "import os"
   ]
  },
  {
   "cell_type": "code",
   "execution_count": 2,
   "metadata": {},
   "outputs": [
    {
     "name": "stderr",
     "output_type": "stream",
     "text": [
      "2025/04/16 17:57:23 INFO mlflow.tracking.fluent: Experiment with name 'lab5-experiment' does not exist. Creating a new experiment.\n"
     ]
    },
    {
     "data": {
      "text/plain": [
       "<Experiment: artifact_location='mlflow-artifacts:/2', creation_time=1744851443790, experiment_id='2', last_update_time=1744851443790, lifecycle_stage='active', name='lab5-experiment', tags={}>"
      ]
     },
     "execution_count": 2,
     "metadata": {},
     "output_type": "execute_result"
    }
   ],
   "source": [
    "mlflow.set_tracking_uri('https://mlflow-service-982318063078.us-west2.run.app')\n",
    "mlflow.set_experiment('lab5-experiment')"
   ]
  },
  {
   "cell_type": "code",
   "execution_count": 3,
   "metadata": {},
   "outputs": [
    {
     "data": {
      "text/html": [
       "<div>\n",
       "<style scoped>\n",
       "    .dataframe tbody tr th:only-of-type {\n",
       "        vertical-align: middle;\n",
       "    }\n",
       "\n",
       "    .dataframe tbody tr th {\n",
       "        vertical-align: top;\n",
       "    }\n",
       "\n",
       "    .dataframe thead th {\n",
       "        text-align: right;\n",
       "    }\n",
       "</style>\n",
       "<table border=\"1\" class=\"dataframe\">\n",
       "  <thead>\n",
       "    <tr style=\"text-align: right;\">\n",
       "      <th></th>\n",
       "      <th>class</th>\n",
       "      <th>alcohol</th>\n",
       "      <th>malic_acid</th>\n",
       "      <th>ash</th>\n",
       "      <th>alcalinity_of_ash</th>\n",
       "      <th>magnesium</th>\n",
       "      <th>total_phenols</th>\n",
       "      <th>flavanoids</th>\n",
       "      <th>nonflavanoid_phenols</th>\n",
       "      <th>proanthocyanins</th>\n",
       "      <th>color_intensity</th>\n",
       "      <th>hue</th>\n",
       "      <th>od280/od315_of_diluted_wines</th>\n",
       "      <th>proline</th>\n",
       "    </tr>\n",
       "  </thead>\n",
       "  <tbody>\n",
       "    <tr>\n",
       "      <th>0</th>\n",
       "      <td>1</td>\n",
       "      <td>14.23</td>\n",
       "      <td>1.71</td>\n",
       "      <td>2.43</td>\n",
       "      <td>15.6</td>\n",
       "      <td>127</td>\n",
       "      <td>2.80</td>\n",
       "      <td>3.06</td>\n",
       "      <td>0.28</td>\n",
       "      <td>2.29</td>\n",
       "      <td>5.64</td>\n",
       "      <td>1.04</td>\n",
       "      <td>3.92</td>\n",
       "      <td>1065</td>\n",
       "    </tr>\n",
       "    <tr>\n",
       "      <th>1</th>\n",
       "      <td>1</td>\n",
       "      <td>13.20</td>\n",
       "      <td>1.78</td>\n",
       "      <td>2.14</td>\n",
       "      <td>11.2</td>\n",
       "      <td>100</td>\n",
       "      <td>2.65</td>\n",
       "      <td>2.76</td>\n",
       "      <td>0.26</td>\n",
       "      <td>1.28</td>\n",
       "      <td>4.38</td>\n",
       "      <td>1.05</td>\n",
       "      <td>3.40</td>\n",
       "      <td>1050</td>\n",
       "    </tr>\n",
       "    <tr>\n",
       "      <th>2</th>\n",
       "      <td>1</td>\n",
       "      <td>13.16</td>\n",
       "      <td>2.36</td>\n",
       "      <td>2.67</td>\n",
       "      <td>18.6</td>\n",
       "      <td>101</td>\n",
       "      <td>2.80</td>\n",
       "      <td>3.24</td>\n",
       "      <td>0.30</td>\n",
       "      <td>2.81</td>\n",
       "      <td>5.68</td>\n",
       "      <td>1.03</td>\n",
       "      <td>3.17</td>\n",
       "      <td>1185</td>\n",
       "    </tr>\n",
       "    <tr>\n",
       "      <th>3</th>\n",
       "      <td>1</td>\n",
       "      <td>14.37</td>\n",
       "      <td>1.95</td>\n",
       "      <td>2.50</td>\n",
       "      <td>16.8</td>\n",
       "      <td>113</td>\n",
       "      <td>3.85</td>\n",
       "      <td>3.49</td>\n",
       "      <td>0.24</td>\n",
       "      <td>2.18</td>\n",
       "      <td>7.80</td>\n",
       "      <td>0.86</td>\n",
       "      <td>3.45</td>\n",
       "      <td>1480</td>\n",
       "    </tr>\n",
       "    <tr>\n",
       "      <th>4</th>\n",
       "      <td>1</td>\n",
       "      <td>13.24</td>\n",
       "      <td>2.59</td>\n",
       "      <td>2.87</td>\n",
       "      <td>21.0</td>\n",
       "      <td>118</td>\n",
       "      <td>2.80</td>\n",
       "      <td>2.69</td>\n",
       "      <td>0.39</td>\n",
       "      <td>1.82</td>\n",
       "      <td>4.32</td>\n",
       "      <td>1.04</td>\n",
       "      <td>2.93</td>\n",
       "      <td>735</td>\n",
       "    </tr>\n",
       "  </tbody>\n",
       "</table>\n",
       "</div>"
      ],
      "text/plain": [
       "   class  alcohol  malic_acid   ash  alcalinity_of_ash  magnesium  \\\n",
       "0      1    14.23        1.71  2.43               15.6        127   \n",
       "1      1    13.20        1.78  2.14               11.2        100   \n",
       "2      1    13.16        2.36  2.67               18.6        101   \n",
       "3      1    14.37        1.95  2.50               16.8        113   \n",
       "4      1    13.24        2.59  2.87               21.0        118   \n",
       "\n",
       "   total_phenols  flavanoids  nonflavanoid_phenols  proanthocyanins  \\\n",
       "0           2.80        3.06                  0.28             2.29   \n",
       "1           2.65        2.76                  0.26             1.28   \n",
       "2           2.80        3.24                  0.30             2.81   \n",
       "3           3.85        3.49                  0.24             2.18   \n",
       "4           2.80        2.69                  0.39             1.82   \n",
       "\n",
       "   color_intensity   hue  od280/od315_of_diluted_wines  proline  \n",
       "0             5.64  1.04                          3.92     1065  \n",
       "1             4.38  1.05                          3.40     1050  \n",
       "2             5.68  1.03                          3.17     1185  \n",
       "3             7.80  0.86                          3.45     1480  \n",
       "4             4.32  1.04                          2.93      735  "
      ]
     },
     "execution_count": 3,
     "metadata": {},
     "output_type": "execute_result"
    }
   ],
   "source": [
    "column_names = ['class', 'alcohol', 'malic_acid', 'ash', 'alcalinity_of_ash', \n",
    "                'magnesium', 'total_phenols', 'flavanoids', 'nonflavanoid_phenols',\n",
    "                'proanthocyanins', 'color_intensity', 'hue', \n",
    "                'od280/od315_of_diluted_wines', 'proline']\n",
    "\n",
    "df = pd.read_csv('data/wine/wine.data', header=None, names=column_names)\n",
    "\n",
    "df.head()"
   ]
  },
  {
   "cell_type": "code",
   "execution_count": 4,
   "metadata": {},
   "outputs": [
    {
     "data": {
      "text/html": [
       "<div>\n",
       "<style scoped>\n",
       "    .dataframe tbody tr th:only-of-type {\n",
       "        vertical-align: middle;\n",
       "    }\n",
       "\n",
       "    .dataframe tbody tr th {\n",
       "        vertical-align: top;\n",
       "    }\n",
       "\n",
       "    .dataframe thead th {\n",
       "        text-align: right;\n",
       "    }\n",
       "</style>\n",
       "<table border=\"1\" class=\"dataframe\">\n",
       "  <thead>\n",
       "    <tr style=\"text-align: right;\">\n",
       "      <th></th>\n",
       "      <th>class</th>\n",
       "      <th>alcohol</th>\n",
       "      <th>malic_acid</th>\n",
       "      <th>ash</th>\n",
       "      <th>alcalinity_of_ash</th>\n",
       "      <th>magnesium</th>\n",
       "      <th>total_phenols</th>\n",
       "      <th>flavanoids</th>\n",
       "      <th>nonflavanoid_phenols</th>\n",
       "      <th>proanthocyanins</th>\n",
       "      <th>color_intensity</th>\n",
       "      <th>hue</th>\n",
       "      <th>od280/od315_of_diluted_wines</th>\n",
       "      <th>proline</th>\n",
       "    </tr>\n",
       "  </thead>\n",
       "  <tbody>\n",
       "    <tr>\n",
       "      <th>count</th>\n",
       "      <td>178.000000</td>\n",
       "      <td>178.000000</td>\n",
       "      <td>178.000000</td>\n",
       "      <td>178.000000</td>\n",
       "      <td>178.000000</td>\n",
       "      <td>178.000000</td>\n",
       "      <td>178.000000</td>\n",
       "      <td>178.000000</td>\n",
       "      <td>178.000000</td>\n",
       "      <td>178.000000</td>\n",
       "      <td>178.000000</td>\n",
       "      <td>178.000000</td>\n",
       "      <td>178.000000</td>\n",
       "      <td>178.000000</td>\n",
       "    </tr>\n",
       "    <tr>\n",
       "      <th>mean</th>\n",
       "      <td>1.938202</td>\n",
       "      <td>13.000618</td>\n",
       "      <td>2.336348</td>\n",
       "      <td>2.366517</td>\n",
       "      <td>19.494944</td>\n",
       "      <td>99.741573</td>\n",
       "      <td>2.295112</td>\n",
       "      <td>2.029270</td>\n",
       "      <td>0.361854</td>\n",
       "      <td>1.590899</td>\n",
       "      <td>5.058090</td>\n",
       "      <td>0.957449</td>\n",
       "      <td>2.611685</td>\n",
       "      <td>746.893258</td>\n",
       "    </tr>\n",
       "    <tr>\n",
       "      <th>std</th>\n",
       "      <td>0.775035</td>\n",
       "      <td>0.811827</td>\n",
       "      <td>1.117146</td>\n",
       "      <td>0.274344</td>\n",
       "      <td>3.339564</td>\n",
       "      <td>14.282484</td>\n",
       "      <td>0.625851</td>\n",
       "      <td>0.998859</td>\n",
       "      <td>0.124453</td>\n",
       "      <td>0.572359</td>\n",
       "      <td>2.318286</td>\n",
       "      <td>0.228572</td>\n",
       "      <td>0.709990</td>\n",
       "      <td>314.907474</td>\n",
       "    </tr>\n",
       "    <tr>\n",
       "      <th>min</th>\n",
       "      <td>1.000000</td>\n",
       "      <td>11.030000</td>\n",
       "      <td>0.740000</td>\n",
       "      <td>1.360000</td>\n",
       "      <td>10.600000</td>\n",
       "      <td>70.000000</td>\n",
       "      <td>0.980000</td>\n",
       "      <td>0.340000</td>\n",
       "      <td>0.130000</td>\n",
       "      <td>0.410000</td>\n",
       "      <td>1.280000</td>\n",
       "      <td>0.480000</td>\n",
       "      <td>1.270000</td>\n",
       "      <td>278.000000</td>\n",
       "    </tr>\n",
       "    <tr>\n",
       "      <th>25%</th>\n",
       "      <td>1.000000</td>\n",
       "      <td>12.362500</td>\n",
       "      <td>1.602500</td>\n",
       "      <td>2.210000</td>\n",
       "      <td>17.200000</td>\n",
       "      <td>88.000000</td>\n",
       "      <td>1.742500</td>\n",
       "      <td>1.205000</td>\n",
       "      <td>0.270000</td>\n",
       "      <td>1.250000</td>\n",
       "      <td>3.220000</td>\n",
       "      <td>0.782500</td>\n",
       "      <td>1.937500</td>\n",
       "      <td>500.500000</td>\n",
       "    </tr>\n",
       "    <tr>\n",
       "      <th>50%</th>\n",
       "      <td>2.000000</td>\n",
       "      <td>13.050000</td>\n",
       "      <td>1.865000</td>\n",
       "      <td>2.360000</td>\n",
       "      <td>19.500000</td>\n",
       "      <td>98.000000</td>\n",
       "      <td>2.355000</td>\n",
       "      <td>2.135000</td>\n",
       "      <td>0.340000</td>\n",
       "      <td>1.555000</td>\n",
       "      <td>4.690000</td>\n",
       "      <td>0.965000</td>\n",
       "      <td>2.780000</td>\n",
       "      <td>673.500000</td>\n",
       "    </tr>\n",
       "    <tr>\n",
       "      <th>75%</th>\n",
       "      <td>3.000000</td>\n",
       "      <td>13.677500</td>\n",
       "      <td>3.082500</td>\n",
       "      <td>2.557500</td>\n",
       "      <td>21.500000</td>\n",
       "      <td>107.000000</td>\n",
       "      <td>2.800000</td>\n",
       "      <td>2.875000</td>\n",
       "      <td>0.437500</td>\n",
       "      <td>1.950000</td>\n",
       "      <td>6.200000</td>\n",
       "      <td>1.120000</td>\n",
       "      <td>3.170000</td>\n",
       "      <td>985.000000</td>\n",
       "    </tr>\n",
       "    <tr>\n",
       "      <th>max</th>\n",
       "      <td>3.000000</td>\n",
       "      <td>14.830000</td>\n",
       "      <td>5.800000</td>\n",
       "      <td>3.230000</td>\n",
       "      <td>30.000000</td>\n",
       "      <td>162.000000</td>\n",
       "      <td>3.880000</td>\n",
       "      <td>5.080000</td>\n",
       "      <td>0.660000</td>\n",
       "      <td>3.580000</td>\n",
       "      <td>13.000000</td>\n",
       "      <td>1.710000</td>\n",
       "      <td>4.000000</td>\n",
       "      <td>1680.000000</td>\n",
       "    </tr>\n",
       "  </tbody>\n",
       "</table>\n",
       "</div>"
      ],
      "text/plain": [
       "            class     alcohol  malic_acid         ash  alcalinity_of_ash  \\\n",
       "count  178.000000  178.000000  178.000000  178.000000         178.000000   \n",
       "mean     1.938202   13.000618    2.336348    2.366517          19.494944   \n",
       "std      0.775035    0.811827    1.117146    0.274344           3.339564   \n",
       "min      1.000000   11.030000    0.740000    1.360000          10.600000   \n",
       "25%      1.000000   12.362500    1.602500    2.210000          17.200000   \n",
       "50%      2.000000   13.050000    1.865000    2.360000          19.500000   \n",
       "75%      3.000000   13.677500    3.082500    2.557500          21.500000   \n",
       "max      3.000000   14.830000    5.800000    3.230000          30.000000   \n",
       "\n",
       "        magnesium  total_phenols  flavanoids  nonflavanoid_phenols  \\\n",
       "count  178.000000     178.000000  178.000000            178.000000   \n",
       "mean    99.741573       2.295112    2.029270              0.361854   \n",
       "std     14.282484       0.625851    0.998859              0.124453   \n",
       "min     70.000000       0.980000    0.340000              0.130000   \n",
       "25%     88.000000       1.742500    1.205000              0.270000   \n",
       "50%     98.000000       2.355000    2.135000              0.340000   \n",
       "75%    107.000000       2.800000    2.875000              0.437500   \n",
       "max    162.000000       3.880000    5.080000              0.660000   \n",
       "\n",
       "       proanthocyanins  color_intensity         hue  \\\n",
       "count       178.000000       178.000000  178.000000   \n",
       "mean          1.590899         5.058090    0.957449   \n",
       "std           0.572359         2.318286    0.228572   \n",
       "min           0.410000         1.280000    0.480000   \n",
       "25%           1.250000         3.220000    0.782500   \n",
       "50%           1.555000         4.690000    0.965000   \n",
       "75%           1.950000         6.200000    1.120000   \n",
       "max           3.580000        13.000000    1.710000   \n",
       "\n",
       "       od280/od315_of_diluted_wines      proline  \n",
       "count                    178.000000   178.000000  \n",
       "mean                       2.611685   746.893258  \n",
       "std                        0.709990   314.907474  \n",
       "min                        1.270000   278.000000  \n",
       "25%                        1.937500   500.500000  \n",
       "50%                        2.780000   673.500000  \n",
       "75%                        3.170000   985.000000  \n",
       "max                        4.000000  1680.000000  "
      ]
     },
     "execution_count": 4,
     "metadata": {},
     "output_type": "execute_result"
    }
   ],
   "source": [
    "df.describe()"
   ]
  },
  {
   "cell_type": "code",
   "execution_count": 5,
   "metadata": {},
   "outputs": [],
   "source": [
    "y = df['class']\n",
    "X = df.drop('class', axis=1)"
   ]
  },
  {
   "cell_type": "code",
   "execution_count": 6,
   "metadata": {},
   "outputs": [],
   "source": [
    "X_train_val, X_test, y_train_val, y_test = train_test_split(X, y, test_size=0.2, shuffle=True)\n",
    "X_train, X_val, y_train, y_val = train_test_split(X_train_val, y_train_val, test_size=0.2, shuffle=True)"
   ]
  },
  {
   "cell_type": "code",
   "execution_count": 7,
   "metadata": {},
   "outputs": [],
   "source": [
    "scaler = StandardScaler()\n",
    "X_train_scaled = pd.DataFrame(scaler.fit_transform(X_train), columns=X_train.columns,index=X_train.index)\n",
    "\n",
    "X_val_scaled = pd.DataFrame(scaler.transform(X_val), columns=X_val.columns,index=X_val.index)\n",
    "\n",
    "X_test_scaled = pd.DataFrame(scaler.transform(X_test), columns=X_test.columns, index=X_test.index)"
   ]
  },
  {
   "cell_type": "code",
   "execution_count": 8,
   "metadata": {},
   "outputs": [],
   "source": [
    "os.makedirs('save_data_lab2', exist_ok=True)\n",
    "\n",
    "X_train_scaled.to_parquet('save_data_lab2/x_train.parquet')\n",
    "X_val_scaled.to_parquet('save_data_lab2/x_val.parquet')\n",
    "X_test_scaled.to_parquet('save_data_lab2/x_test.parquet')\n",
    "\n",
    "pd.DataFrame(y_train, columns=['class']).to_parquet('save_data_lab2/y_train.parquet')\n",
    "pd.DataFrame(y_val, columns=['class']).to_parquet('save_data_lab2/y_val.parquet')\n",
    "pd.DataFrame(y_test, columns=['class']).to_parquet('save_data_lab2/y_test.parquet')"
   ]
  },
  {
   "cell_type": "code",
   "execution_count": 15,
   "metadata": {},
   "outputs": [],
   "source": [
    "def objective(params):\n",
    "    classifier_type = params.pop(\"type\")\n",
    "\n",
    "    if classifier_type == \"dt\":\n",
    "        clf = DecisionTreeClassifier(**params)\n",
    "        model_name = \"decision_tree_wine\"\n",
    "    elif classifier_type == \"rf\":\n",
    "        clf = RandomForestClassifier(**params)\n",
    "        model_name = \"random_forest_wine\"\n",
    "    else:  # lr\n",
    "        clf = LogisticRegression(**params, max_iter=2000)\n",
    "        model_name = \"logistic_regression_wine\"\n",
    "\n",
    "    with mlflow.start_run():\n",
    "        acc = cross_val_score(clf, X_train_scaled, y_train, cv=5).mean()\n",
    "        clf.fit(X_train_scaled, y_train)\n",
    "\n",
    "        mlflow.set_tag(\"model_type\", classifier_type)\n",
    "        mlflow.log_params(params)\n",
    "        mlflow.log_metric(\"accuracy\", acc)\n",
    "\n",
    "        mlflow.sklearn.log_model(\n",
    "            clf, artifact_path=\"model\",\n",
    "            registered_model_name=model_name\n",
    "        )\n",
    "\n",
    "        return {\"loss\": -acc, \"status\": STATUS_OK}"
   ]
  },
  {
   "cell_type": "code",
   "execution_count": 16,
   "metadata": {},
   "outputs": [],
   "source": [
    "search_space = hp.choice('classifier_type', [\n",
    "    {\n",
    "        'type': 'dt',\n",
    "        'criterion': hp.choice('dtree_criterion', ['gini', 'entropy']),\n",
    "        'max_depth': hp.choice('dtree_max_depth', [None] + list(range(1, 10))),\n",
    "        'min_samples_split': hp.randint('dtree_min_samples_split', 2, 10),\n",
    "        'random_state': 24\n",
    "    },\n",
    "    {\n",
    "        'type': 'rf',\n",
    "        'n_estimators': hp.randint('rf_n_estimators', 20, 500),\n",
    "        'max_features': hp.randint('rf_max_features', 2, 9),\n",
    "        'criterion': hp.choice('rf_criterion', ['gini', 'entropy']),\n",
    "        'random_state': 24\n",
    "    },\n",
    "    {\n",
    "        'type': 'lr',\n",
    "        'C': hp.loguniform('lr_C', np.log(0.01), np.log(10.0)),\n",
    "        'random_state': 24\n",
    "    }\n",
    "])"
   ]
  },
  {
   "cell_type": "code",
   "execution_count": 17,
   "metadata": {},
   "outputs": [
    {
     "name": "stdout",
     "output_type": "stream",
     "text": [
      "  0%|          | 0/32 [00:00<?, ?trial/s, best loss=?]"
     ]
    },
    {
     "name": "stderr",
     "output_type": "stream",
     "text": [
      "Successfully registered model 'decision_tree_wine'.\n",
      "2025/04/17 10:30:24 INFO mlflow.store.model_registry.abstract_store: Waiting up to 300 seconds for model version to finish creation. Model name: decision_tree_wine, version 1\n",
      "\n",
      "Created version '1' of model 'decision_tree_wine'.\n",
      "2025/04/17 10:30:24 WARNING mlflow.models.model: Input example should be provided to infer model signature if the model signature is not provided when logging the model.\n",
      "\n",
      "2025/04/17 10:30:24 INFO mlflow.tracking._tracking_service.client: 🏃 View run unique-wolf-355 at: https://mlflow-service-982318063078.us-west2.run.app/#/experiments/2/runs/3ea42d16afd0485db1bacbc43010b1ed.\n",
      "\n",
      "2025/04/17 10:30:24 INFO mlflow.tracking._tracking_service.client: 🧪 View experiment at: https://mlflow-service-982318063078.us-west2.run.app/#/experiments/2.\n",
      "\n"
     ]
    },
    {
     "name": "stdout",
     "output_type": "stream",
     "text": [
      "  3%|▎         | 1/32 [00:04<02:11,  4.23s/trial, best loss: -0.8837944664031621]"
     ]
    },
    {
     "name": "stderr",
     "output_type": "stream",
     "text": [
      "Registered model 'decision_tree_wine' already exists. Creating a new version of this model...\n",
      "2025/04/17 10:30:27 INFO mlflow.store.model_registry.abstract_store: Waiting up to 300 seconds for model version to finish creation. Model name: decision_tree_wine, version 2\n",
      "\n",
      "Created version '2' of model 'decision_tree_wine'.\n",
      "2025/04/17 10:30:27 WARNING mlflow.models.model: Input example should be provided to infer model signature if the model signature is not provided when logging the model.\n",
      "\n",
      "2025/04/17 10:30:27 INFO mlflow.tracking._tracking_service.client: 🏃 View run redolent-bird-293 at: https://mlflow-service-982318063078.us-west2.run.app/#/experiments/2/runs/a3885b327caa4ea2a2c2c17153bd4a4f.\n",
      "\n",
      "2025/04/17 10:30:27 INFO mlflow.tracking._tracking_service.client: 🧪 View experiment at: https://mlflow-service-982318063078.us-west2.run.app/#/experiments/2.\n",
      "\n"
     ]
    },
    {
     "name": "stdout",
     "output_type": "stream",
     "text": [
      "  6%|▋         | 2/32 [00:07<01:52,  3.74s/trial, best loss: -0.8837944664031621]"
     ]
    },
    {
     "name": "stderr",
     "output_type": "stream",
     "text": [
      "Registered model 'decision_tree_wine' already exists. Creating a new version of this model...\n",
      "2025/04/17 10:30:30 INFO mlflow.store.model_registry.abstract_store: Waiting up to 300 seconds for model version to finish creation. Model name: decision_tree_wine, version 3\n",
      "\n",
      "Created version '3' of model 'decision_tree_wine'.\n",
      "2025/04/17 10:30:30 WARNING mlflow.models.model: Input example should be provided to infer model signature if the model signature is not provided when logging the model.\n",
      "\n",
      "2025/04/17 10:30:30 INFO mlflow.tracking._tracking_service.client: 🏃 View run learned-penguin-731 at: https://mlflow-service-982318063078.us-west2.run.app/#/experiments/2/runs/41785548d9604513b360868c06ff90c7.\n",
      "\n",
      "2025/04/17 10:30:30 INFO mlflow.tracking._tracking_service.client: 🧪 View experiment at: https://mlflow-service-982318063078.us-west2.run.app/#/experiments/2.\n",
      "\n"
     ]
    },
    {
     "name": "stdout",
     "output_type": "stream",
     "text": [
      "  9%|▉         | 3/32 [00:10<01:39,  3.42s/trial, best loss: -0.8837944664031621]"
     ]
    },
    {
     "name": "stderr",
     "output_type": "stream",
     "text": [
      "Registered model 'decision_tree_wine' already exists. Creating a new version of this model...\n",
      "2025/04/17 10:30:34 INFO mlflow.store.model_registry.abstract_store: Waiting up to 300 seconds for model version to finish creation. Model name: decision_tree_wine, version 4\n",
      "\n",
      "Created version '4' of model 'decision_tree_wine'.\n",
      "2025/04/17 10:30:34 WARNING mlflow.models.model: Input example should be provided to infer model signature if the model signature is not provided when logging the model.\n",
      "\n",
      "2025/04/17 10:30:34 INFO mlflow.tracking._tracking_service.client: 🏃 View run lyrical-lynx-422 at: https://mlflow-service-982318063078.us-west2.run.app/#/experiments/2/runs/0337937b3f324d79837d4d163288bb4a.\n",
      "\n",
      "2025/04/17 10:30:34 INFO mlflow.tracking._tracking_service.client: 🧪 View experiment at: https://mlflow-service-982318063078.us-west2.run.app/#/experiments/2.\n",
      "\n"
     ]
    },
    {
     "name": "stdout",
     "output_type": "stream",
     "text": [
      " 12%|█▎        | 4/32 [00:13<01:32,  3.30s/trial, best loss: -0.8837944664031621]"
     ]
    },
    {
     "name": "stderr",
     "output_type": "stream",
     "text": [
      "Successfully registered model 'random_forest_wine'.\n",
      "2025/04/17 10:30:37 INFO mlflow.store.model_registry.abstract_store: Waiting up to 300 seconds for model version to finish creation. Model name: random_forest_wine, version 1\n",
      "\n",
      "Created version '1' of model 'random_forest_wine'.\n",
      "2025/04/17 10:30:37 WARNING mlflow.models.model: Input example should be provided to infer model signature if the model signature is not provided when logging the model.\n",
      "\n",
      "2025/04/17 10:30:37 INFO mlflow.tracking._tracking_service.client: 🏃 View run hilarious-eel-178 at: https://mlflow-service-982318063078.us-west2.run.app/#/experiments/2/runs/40bd3d66ac254824979a47411c1137e3.\n",
      "\n",
      "2025/04/17 10:30:37 INFO mlflow.tracking._tracking_service.client: 🧪 View experiment at: https://mlflow-service-982318063078.us-west2.run.app/#/experiments/2.\n",
      "\n"
     ]
    },
    {
     "name": "stdout",
     "output_type": "stream",
     "text": [
      " 16%|█▌        | 5/32 [00:17<01:30,  3.34s/trial, best loss: -0.9739130434782609]"
     ]
    },
    {
     "name": "stderr",
     "output_type": "stream",
     "text": [
      "Registered model 'random_forest_wine' already exists. Creating a new version of this model...\n",
      "2025/04/17 10:30:40 INFO mlflow.store.model_registry.abstract_store: Waiting up to 300 seconds for model version to finish creation. Model name: random_forest_wine, version 2\n",
      "\n",
      "Created version '2' of model 'random_forest_wine'.\n",
      "2025/04/17 10:30:40 WARNING mlflow.models.model: Input example should be provided to infer model signature if the model signature is not provided when logging the model.\n",
      "\n",
      "2025/04/17 10:30:40 INFO mlflow.tracking._tracking_service.client: 🏃 View run legendary-steed-488 at: https://mlflow-service-982318063078.us-west2.run.app/#/experiments/2/runs/640f40e326db4e18b41dcdf204ffec1b.\n",
      "\n",
      "2025/04/17 10:30:40 INFO mlflow.tracking._tracking_service.client: 🧪 View experiment at: https://mlflow-service-982318063078.us-west2.run.app/#/experiments/2.\n",
      "\n"
     ]
    },
    {
     "name": "stdout",
     "output_type": "stream",
     "text": [
      " 19%|█▉        | 6/32 [00:20<01:27,  3.37s/trial, best loss: -0.9739130434782609]"
     ]
    },
    {
     "name": "stderr",
     "output_type": "stream",
     "text": [
      "Successfully registered model 'logistic_regression_wine'.\n",
      "2025/04/17 10:30:43 INFO mlflow.store.model_registry.abstract_store: Waiting up to 300 seconds for model version to finish creation. Model name: logistic_regression_wine, version 1\n",
      "\n",
      "Created version '1' of model 'logistic_regression_wine'.\n",
      "2025/04/17 10:30:43 WARNING mlflow.models.model: Input example should be provided to infer model signature if the model signature is not provided when logging the model.\n",
      "\n",
      "2025/04/17 10:30:43 INFO mlflow.tracking._tracking_service.client: 🏃 View run spiffy-shrimp-834 at: https://mlflow-service-982318063078.us-west2.run.app/#/experiments/2/runs/56a7e9b358c749db8e02038238e16f14.\n",
      "\n",
      "2025/04/17 10:30:43 INFO mlflow.tracking._tracking_service.client: 🧪 View experiment at: https://mlflow-service-982318063078.us-west2.run.app/#/experiments/2.\n",
      "\n"
     ]
    },
    {
     "name": "stdout",
     "output_type": "stream",
     "text": [
      " 22%|██▏       | 7/32 [00:23<01:21,  3.25s/trial, best loss: -0.9739130434782609]"
     ]
    },
    {
     "name": "stderr",
     "output_type": "stream",
     "text": [
      "Registered model 'random_forest_wine' already exists. Creating a new version of this model...\n",
      "2025/04/17 10:30:47 INFO mlflow.store.model_registry.abstract_store: Waiting up to 300 seconds for model version to finish creation. Model name: random_forest_wine, version 3\n",
      "\n",
      "Created version '3' of model 'random_forest_wine'.\n",
      "2025/04/17 10:30:47 WARNING mlflow.models.model: Input example should be provided to infer model signature if the model signature is not provided when logging the model.\n",
      "\n",
      "2025/04/17 10:30:47 INFO mlflow.tracking._tracking_service.client: 🏃 View run entertaining-roo-524 at: https://mlflow-service-982318063078.us-west2.run.app/#/experiments/2/runs/4a2d8f45d8cf48568a11bfffe043c965.\n",
      "\n",
      "2025/04/17 10:30:47 INFO mlflow.tracking._tracking_service.client: 🧪 View experiment at: https://mlflow-service-982318063078.us-west2.run.app/#/experiments/2.\n",
      "\n"
     ]
    },
    {
     "name": "stdout",
     "output_type": "stream",
     "text": [
      " 25%|██▌       | 8/32 [00:27<01:22,  3.44s/trial, best loss: -0.9739130434782609]"
     ]
    },
    {
     "name": "stderr",
     "output_type": "stream",
     "text": [
      "Registered model 'logistic_regression_wine' already exists. Creating a new version of this model...\n",
      "2025/04/17 10:30:50 INFO mlflow.store.model_registry.abstract_store: Waiting up to 300 seconds for model version to finish creation. Model name: logistic_regression_wine, version 2\n",
      "\n",
      "Created version '2' of model 'logistic_regression_wine'.\n",
      "2025/04/17 10:30:50 WARNING mlflow.models.model: Input example should be provided to infer model signature if the model signature is not provided when logging the model.\n",
      "\n",
      "2025/04/17 10:30:50 INFO mlflow.tracking._tracking_service.client: 🏃 View run brawny-bat-763 at: https://mlflow-service-982318063078.us-west2.run.app/#/experiments/2/runs/8d8b17c1c61041e7bb732b20998e9bbd.\n",
      "\n",
      "2025/04/17 10:30:50 INFO mlflow.tracking._tracking_service.client: 🧪 View experiment at: https://mlflow-service-982318063078.us-west2.run.app/#/experiments/2.\n",
      "\n"
     ]
    },
    {
     "name": "stdout",
     "output_type": "stream",
     "text": [
      " 28%|██▊       | 9/32 [00:30<01:16,  3.33s/trial, best loss: -0.9913043478260869]"
     ]
    },
    {
     "name": "stderr",
     "output_type": "stream",
     "text": [
      "Registered model 'decision_tree_wine' already exists. Creating a new version of this model...\n",
      "2025/04/17 10:30:53 INFO mlflow.store.model_registry.abstract_store: Waiting up to 300 seconds for model version to finish creation. Model name: decision_tree_wine, version 5\n",
      "\n",
      "Created version '5' of model 'decision_tree_wine'.\n",
      "2025/04/17 10:30:53 WARNING mlflow.models.model: Input example should be provided to infer model signature if the model signature is not provided when logging the model.\n",
      "\n",
      "2025/04/17 10:30:53 INFO mlflow.tracking._tracking_service.client: 🏃 View run amazing-frog-224 at: https://mlflow-service-982318063078.us-west2.run.app/#/experiments/2/runs/a778139a57984d91b800f44e323a1203.\n",
      "\n",
      "2025/04/17 10:30:53 INFO mlflow.tracking._tracking_service.client: 🧪 View experiment at: https://mlflow-service-982318063078.us-west2.run.app/#/experiments/2.\n",
      "\n"
     ]
    },
    {
     "name": "stdout",
     "output_type": "stream",
     "text": [
      " 31%|███▏      | 10/32 [00:33<01:11,  3.25s/trial, best loss: -0.9913043478260869]"
     ]
    },
    {
     "name": "stderr",
     "output_type": "stream",
     "text": [
      "Registered model 'logistic_regression_wine' already exists. Creating a new version of this model...\n",
      "2025/04/17 10:30:57 INFO mlflow.store.model_registry.abstract_store: Waiting up to 300 seconds for model version to finish creation. Model name: logistic_regression_wine, version 3\n",
      "\n",
      "Created version '3' of model 'logistic_regression_wine'.\n",
      "2025/04/17 10:30:57 WARNING mlflow.models.model: Input example should be provided to infer model signature if the model signature is not provided when logging the model.\n",
      "\n",
      "2025/04/17 10:30:57 INFO mlflow.tracking._tracking_service.client: 🏃 View run suave-bug-202 at: https://mlflow-service-982318063078.us-west2.run.app/#/experiments/2/runs/f207e54d9c3d4e06a3ac3ceb160bccb4.\n",
      "\n",
      "2025/04/17 10:30:57 INFO mlflow.tracking._tracking_service.client: 🧪 View experiment at: https://mlflow-service-982318063078.us-west2.run.app/#/experiments/2.\n",
      "\n"
     ]
    },
    {
     "name": "stdout",
     "output_type": "stream",
     "text": [
      " 34%|███▍      | 11/32 [00:37<01:09,  3.29s/trial, best loss: -0.9913043478260869]"
     ]
    },
    {
     "name": "stderr",
     "output_type": "stream",
     "text": [
      "Registered model 'decision_tree_wine' already exists. Creating a new version of this model...\n",
      "2025/04/17 10:31:00 INFO mlflow.store.model_registry.abstract_store: Waiting up to 300 seconds for model version to finish creation. Model name: decision_tree_wine, version 6\n",
      "\n",
      "Created version '6' of model 'decision_tree_wine'.\n",
      "2025/04/17 10:31:00 WARNING mlflow.models.model: Input example should be provided to infer model signature if the model signature is not provided when logging the model.\n",
      "\n",
      "2025/04/17 10:31:00 INFO mlflow.tracking._tracking_service.client: 🏃 View run bustling-newt-120 at: https://mlflow-service-982318063078.us-west2.run.app/#/experiments/2/runs/543971640d1341298e5dc284ef3ac380.\n",
      "\n",
      "2025/04/17 10:31:00 INFO mlflow.tracking._tracking_service.client: 🧪 View experiment at: https://mlflow-service-982318063078.us-west2.run.app/#/experiments/2.\n",
      "\n"
     ]
    },
    {
     "name": "stdout",
     "output_type": "stream",
     "text": [
      " 38%|███▊      | 12/32 [00:40<01:05,  3.29s/trial, best loss: -0.9913043478260869]"
     ]
    },
    {
     "name": "stderr",
     "output_type": "stream",
     "text": [
      "Registered model 'logistic_regression_wine' already exists. Creating a new version of this model...\n",
      "2025/04/17 10:31:03 INFO mlflow.store.model_registry.abstract_store: Waiting up to 300 seconds for model version to finish creation. Model name: logistic_regression_wine, version 4\n",
      "\n",
      "Created version '4' of model 'logistic_regression_wine'.\n",
      "2025/04/17 10:31:03 WARNING mlflow.models.model: Input example should be provided to infer model signature if the model signature is not provided when logging the model.\n",
      "\n",
      "2025/04/17 10:31:03 INFO mlflow.tracking._tracking_service.client: 🏃 View run victorious-seal-971 at: https://mlflow-service-982318063078.us-west2.run.app/#/experiments/2/runs/d130e4f5aa6d48248db2954467211151.\n",
      "\n",
      "2025/04/17 10:31:03 INFO mlflow.tracking._tracking_service.client: 🧪 View experiment at: https://mlflow-service-982318063078.us-west2.run.app/#/experiments/2.\n",
      "\n"
     ]
    },
    {
     "name": "stdout",
     "output_type": "stream",
     "text": [
      " 41%|████      | 13/32 [00:43<01:00,  3.20s/trial, best loss: -0.9913043478260869]"
     ]
    },
    {
     "name": "stderr",
     "output_type": "stream",
     "text": [
      "Registered model 'logistic_regression_wine' already exists. Creating a new version of this model...\n",
      "2025/04/17 10:31:06 INFO mlflow.store.model_registry.abstract_store: Waiting up to 300 seconds for model version to finish creation. Model name: logistic_regression_wine, version 5\n",
      "\n",
      "Created version '5' of model 'logistic_regression_wine'.\n",
      "2025/04/17 10:31:06 WARNING mlflow.models.model: Input example should be provided to infer model signature if the model signature is not provided when logging the model.\n",
      "\n",
      "2025/04/17 10:31:06 INFO mlflow.tracking._tracking_service.client: 🏃 View run intrigued-stork-317 at: https://mlflow-service-982318063078.us-west2.run.app/#/experiments/2/runs/dc873a9aaf914285ac16818a0eaea9c6.\n",
      "\n",
      "2025/04/17 10:31:06 INFO mlflow.tracking._tracking_service.client: 🧪 View experiment at: https://mlflow-service-982318063078.us-west2.run.app/#/experiments/2.\n",
      "\n"
     ]
    },
    {
     "name": "stdout",
     "output_type": "stream",
     "text": [
      " 44%|████▍     | 14/32 [00:46<00:56,  3.15s/trial, best loss: -0.9913043478260869]"
     ]
    },
    {
     "name": "stderr",
     "output_type": "stream",
     "text": [
      "Registered model 'random_forest_wine' already exists. Creating a new version of this model...\n",
      "2025/04/17 10:31:10 INFO mlflow.store.model_registry.abstract_store: Waiting up to 300 seconds for model version to finish creation. Model name: random_forest_wine, version 4\n",
      "\n",
      "Created version '4' of model 'random_forest_wine'.\n",
      "2025/04/17 10:31:10 WARNING mlflow.models.model: Input example should be provided to infer model signature if the model signature is not provided when logging the model.\n",
      "\n",
      "2025/04/17 10:31:10 INFO mlflow.tracking._tracking_service.client: 🏃 View run inquisitive-mink-971 at: https://mlflow-service-982318063078.us-west2.run.app/#/experiments/2/runs/4f2ad39410ea4f71988a92ff03b05c75.\n",
      "\n",
      "2025/04/17 10:31:10 INFO mlflow.tracking._tracking_service.client: 🧪 View experiment at: https://mlflow-service-982318063078.us-west2.run.app/#/experiments/2.\n",
      "\n"
     ]
    },
    {
     "name": "stdout",
     "output_type": "stream",
     "text": [
      " 47%|████▋     | 15/32 [00:49<00:55,  3.28s/trial, best loss: -0.9913043478260869]"
     ]
    },
    {
     "name": "stderr",
     "output_type": "stream",
     "text": [
      "Registered model 'logistic_regression_wine' already exists. Creating a new version of this model...\n",
      "2025/04/17 10:31:13 INFO mlflow.store.model_registry.abstract_store: Waiting up to 300 seconds for model version to finish creation. Model name: logistic_regression_wine, version 6\n",
      "\n",
      "Created version '6' of model 'logistic_regression_wine'.\n",
      "2025/04/17 10:31:13 WARNING mlflow.models.model: Input example should be provided to infer model signature if the model signature is not provided when logging the model.\n",
      "\n",
      "2025/04/17 10:31:13 INFO mlflow.tracking._tracking_service.client: 🏃 View run redolent-cod-471 at: https://mlflow-service-982318063078.us-west2.run.app/#/experiments/2/runs/edf4b3cb2ff74c008460979012a12efe.\n",
      "\n",
      "2025/04/17 10:31:13 INFO mlflow.tracking._tracking_service.client: 🧪 View experiment at: https://mlflow-service-982318063078.us-west2.run.app/#/experiments/2.\n",
      "\n"
     ]
    },
    {
     "name": "stdout",
     "output_type": "stream",
     "text": [
      " 50%|█████     | 16/32 [00:53<00:51,  3.24s/trial, best loss: -0.9913043478260869]"
     ]
    },
    {
     "name": "stderr",
     "output_type": "stream",
     "text": [
      "Registered model 'decision_tree_wine' already exists. Creating a new version of this model...\n",
      "2025/04/17 10:31:16 INFO mlflow.store.model_registry.abstract_store: Waiting up to 300 seconds for model version to finish creation. Model name: decision_tree_wine, version 7\n",
      "\n",
      "Created version '7' of model 'decision_tree_wine'.\n",
      "2025/04/17 10:31:16 WARNING mlflow.models.model: Input example should be provided to infer model signature if the model signature is not provided when logging the model.\n",
      "\n",
      "2025/04/17 10:31:16 INFO mlflow.tracking._tracking_service.client: 🏃 View run sincere-crow-714 at: https://mlflow-service-982318063078.us-west2.run.app/#/experiments/2/runs/712a70f5f79e4725ad8ea3442c80aa0d.\n",
      "\n",
      "2025/04/17 10:31:16 INFO mlflow.tracking._tracking_service.client: 🧪 View experiment at: https://mlflow-service-982318063078.us-west2.run.app/#/experiments/2.\n",
      "\n"
     ]
    },
    {
     "name": "stdout",
     "output_type": "stream",
     "text": [
      " 53%|█████▎    | 17/32 [00:56<00:48,  3.22s/trial, best loss: -0.9913043478260869]"
     ]
    },
    {
     "name": "stderr",
     "output_type": "stream",
     "text": [
      "Registered model 'decision_tree_wine' already exists. Creating a new version of this model...\n",
      "2025/04/17 10:31:19 INFO mlflow.store.model_registry.abstract_store: Waiting up to 300 seconds for model version to finish creation. Model name: decision_tree_wine, version 8\n",
      "\n",
      "Created version '8' of model 'decision_tree_wine'.\n",
      "2025/04/17 10:31:19 WARNING mlflow.models.model: Input example should be provided to infer model signature if the model signature is not provided when logging the model.\n",
      "\n",
      "2025/04/17 10:31:19 INFO mlflow.tracking._tracking_service.client: 🏃 View run funny-hawk-1 at: https://mlflow-service-982318063078.us-west2.run.app/#/experiments/2/runs/2b4fa19fe7894ee4acee767837b00ef0.\n",
      "\n",
      "2025/04/17 10:31:19 INFO mlflow.tracking._tracking_service.client: 🧪 View experiment at: https://mlflow-service-982318063078.us-west2.run.app/#/experiments/2.\n",
      "\n"
     ]
    },
    {
     "name": "stdout",
     "output_type": "stream",
     "text": [
      " 56%|█████▋    | 18/32 [00:59<00:44,  3.19s/trial, best loss: -0.9913043478260869]"
     ]
    },
    {
     "name": "stderr",
     "output_type": "stream",
     "text": [
      "Registered model 'decision_tree_wine' already exists. Creating a new version of this model...\n",
      "2025/04/17 10:31:22 INFO mlflow.store.model_registry.abstract_store: Waiting up to 300 seconds for model version to finish creation. Model name: decision_tree_wine, version 9\n",
      "\n",
      "Created version '9' of model 'decision_tree_wine'.\n",
      "2025/04/17 10:31:22 WARNING mlflow.models.model: Input example should be provided to infer model signature if the model signature is not provided when logging the model.\n",
      "\n",
      "2025/04/17 10:31:22 INFO mlflow.tracking._tracking_service.client: 🏃 View run auspicious-smelt-246 at: https://mlflow-service-982318063078.us-west2.run.app/#/experiments/2/runs/8ed99954bc304a7d856220781397aa9f.\n",
      "\n",
      "2025/04/17 10:31:22 INFO mlflow.tracking._tracking_service.client: 🧪 View experiment at: https://mlflow-service-982318063078.us-west2.run.app/#/experiments/2.\n",
      "\n"
     ]
    },
    {
     "name": "stdout",
     "output_type": "stream",
     "text": [
      " 59%|█████▉    | 19/32 [01:02<00:41,  3.17s/trial, best loss: -0.9913043478260869]"
     ]
    },
    {
     "name": "stderr",
     "output_type": "stream",
     "text": [
      "Registered model 'decision_tree_wine' already exists. Creating a new version of this model...\n",
      "2025/04/17 10:31:25 INFO mlflow.store.model_registry.abstract_store: Waiting up to 300 seconds for model version to finish creation. Model name: decision_tree_wine, version 10\n",
      "\n",
      "Created version '10' of model 'decision_tree_wine'.\n",
      "2025/04/17 10:31:25 WARNING mlflow.models.model: Input example should be provided to infer model signature if the model signature is not provided when logging the model.\n",
      "\n",
      "2025/04/17 10:31:25 INFO mlflow.tracking._tracking_service.client: 🏃 View run nebulous-smelt-807 at: https://mlflow-service-982318063078.us-west2.run.app/#/experiments/2/runs/d00a41c0ad3d484282184ad218c5847b.\n",
      "\n",
      "2025/04/17 10:31:25 INFO mlflow.tracking._tracking_service.client: 🧪 View experiment at: https://mlflow-service-982318063078.us-west2.run.app/#/experiments/2.\n",
      "\n"
     ]
    },
    {
     "name": "stdout",
     "output_type": "stream",
     "text": [
      " 62%|██████▎   | 20/32 [01:05<00:37,  3.11s/trial, best loss: -0.9913043478260869]"
     ]
    },
    {
     "name": "stderr",
     "output_type": "stream",
     "text": [
      "Registered model 'logistic_regression_wine' already exists. Creating a new version of this model...\n",
      "2025/04/17 10:31:28 INFO mlflow.store.model_registry.abstract_store: Waiting up to 300 seconds for model version to finish creation. Model name: logistic_regression_wine, version 7\n",
      "\n",
      "Created version '7' of model 'logistic_regression_wine'.\n",
      "2025/04/17 10:31:28 WARNING mlflow.models.model: Input example should be provided to infer model signature if the model signature is not provided when logging the model.\n",
      "\n",
      "2025/04/17 10:31:28 INFO mlflow.tracking._tracking_service.client: 🏃 View run funny-slug-870 at: https://mlflow-service-982318063078.us-west2.run.app/#/experiments/2/runs/35bc58f005d5423d8f3b33579e92e71a.\n",
      "\n",
      "2025/04/17 10:31:28 INFO mlflow.tracking._tracking_service.client: 🧪 View experiment at: https://mlflow-service-982318063078.us-west2.run.app/#/experiments/2.\n",
      "\n"
     ]
    },
    {
     "name": "stdout",
     "output_type": "stream",
     "text": [
      " 66%|██████▌   | 21/32 [01:08<00:34,  3.11s/trial, best loss: -0.9913043478260869]"
     ]
    },
    {
     "name": "stderr",
     "output_type": "stream",
     "text": [
      "Registered model 'logistic_regression_wine' already exists. Creating a new version of this model...\n",
      "2025/04/17 10:31:31 INFO mlflow.store.model_registry.abstract_store: Waiting up to 300 seconds for model version to finish creation. Model name: logistic_regression_wine, version 8\n",
      "\n",
      "Created version '8' of model 'logistic_regression_wine'.\n",
      "2025/04/17 10:31:31 WARNING mlflow.models.model: Input example should be provided to infer model signature if the model signature is not provided when logging the model.\n",
      "\n",
      "2025/04/17 10:31:31 INFO mlflow.tracking._tracking_service.client: 🏃 View run victorious-whale-175 at: https://mlflow-service-982318063078.us-west2.run.app/#/experiments/2/runs/1ae8e9fa51e54046823a9ace4a02e31f.\n",
      "\n",
      "2025/04/17 10:31:31 INFO mlflow.tracking._tracking_service.client: 🧪 View experiment at: https://mlflow-service-982318063078.us-west2.run.app/#/experiments/2.\n",
      "\n"
     ]
    },
    {
     "name": "stdout",
     "output_type": "stream",
     "text": [
      " 69%|██████▉   | 22/32 [01:11<00:30,  3.09s/trial, best loss: -0.9913043478260869]"
     ]
    },
    {
     "name": "stderr",
     "output_type": "stream",
     "text": [
      "Registered model 'logistic_regression_wine' already exists. Creating a new version of this model...\n",
      "2025/04/17 10:31:34 INFO mlflow.store.model_registry.abstract_store: Waiting up to 300 seconds for model version to finish creation. Model name: logistic_regression_wine, version 9\n",
      "\n",
      "Created version '9' of model 'logistic_regression_wine'.\n",
      "2025/04/17 10:31:34 WARNING mlflow.models.model: Input example should be provided to infer model signature if the model signature is not provided when logging the model.\n",
      "\n",
      "2025/04/17 10:31:34 INFO mlflow.tracking._tracking_service.client: 🏃 View run nebulous-ape-307 at: https://mlflow-service-982318063078.us-west2.run.app/#/experiments/2/runs/fb0e0f8468774d68bb040ba7581291ce.\n",
      "\n",
      "2025/04/17 10:31:34 INFO mlflow.tracking._tracking_service.client: 🧪 View experiment at: https://mlflow-service-982318063078.us-west2.run.app/#/experiments/2.\n",
      "\n"
     ]
    },
    {
     "name": "stdout",
     "output_type": "stream",
     "text": [
      " 72%|███████▏  | 23/32 [01:14<00:27,  3.03s/trial, best loss: -0.9913043478260869]"
     ]
    },
    {
     "name": "stderr",
     "output_type": "stream",
     "text": [
      "Registered model 'logistic_regression_wine' already exists. Creating a new version of this model...\n",
      "2025/04/17 10:31:37 INFO mlflow.store.model_registry.abstract_store: Waiting up to 300 seconds for model version to finish creation. Model name: logistic_regression_wine, version 10\n",
      "\n",
      "Created version '10' of model 'logistic_regression_wine'.\n",
      "2025/04/17 10:31:37 WARNING mlflow.models.model: Input example should be provided to infer model signature if the model signature is not provided when logging the model.\n",
      "\n",
      "2025/04/17 10:31:37 INFO mlflow.tracking._tracking_service.client: 🏃 View run abundant-vole-493 at: https://mlflow-service-982318063078.us-west2.run.app/#/experiments/2/runs/06696fde39304900836b50d4a9dd646e.\n",
      "\n",
      "2025/04/17 10:31:37 INFO mlflow.tracking._tracking_service.client: 🧪 View experiment at: https://mlflow-service-982318063078.us-west2.run.app/#/experiments/2.\n",
      "\n"
     ]
    },
    {
     "name": "stdout",
     "output_type": "stream",
     "text": [
      " 75%|███████▌  | 24/32 [01:17<00:24,  3.00s/trial, best loss: -0.9913043478260869]"
     ]
    },
    {
     "name": "stderr",
     "output_type": "stream",
     "text": [
      "Registered model 'logistic_regression_wine' already exists. Creating a new version of this model...\n",
      "2025/04/17 10:31:40 INFO mlflow.store.model_registry.abstract_store: Waiting up to 300 seconds for model version to finish creation. Model name: logistic_regression_wine, version 11\n",
      "\n",
      "Created version '11' of model 'logistic_regression_wine'.\n",
      "2025/04/17 10:31:40 WARNING mlflow.models.model: Input example should be provided to infer model signature if the model signature is not provided when logging the model.\n",
      "\n",
      "2025/04/17 10:31:40 INFO mlflow.tracking._tracking_service.client: 🏃 View run trusting-squirrel-38 at: https://mlflow-service-982318063078.us-west2.run.app/#/experiments/2/runs/cc62124214bf4f5d9919cd13e5a0fce5.\n",
      "\n",
      "2025/04/17 10:31:40 INFO mlflow.tracking._tracking_service.client: 🧪 View experiment at: https://mlflow-service-982318063078.us-west2.run.app/#/experiments/2.\n",
      "\n"
     ]
    },
    {
     "name": "stdout",
     "output_type": "stream",
     "text": [
      " 78%|███████▊  | 25/32 [01:20<00:20,  2.97s/trial, best loss: -0.9913043478260869]"
     ]
    },
    {
     "name": "stderr",
     "output_type": "stream",
     "text": [
      "Registered model 'logistic_regression_wine' already exists. Creating a new version of this model...\n",
      "2025/04/17 10:31:43 INFO mlflow.store.model_registry.abstract_store: Waiting up to 300 seconds for model version to finish creation. Model name: logistic_regression_wine, version 12\n",
      "\n",
      "Created version '12' of model 'logistic_regression_wine'.\n",
      "2025/04/17 10:31:43 WARNING mlflow.models.model: Input example should be provided to infer model signature if the model signature is not provided when logging the model.\n",
      "\n",
      "2025/04/17 10:31:43 INFO mlflow.tracking._tracking_service.client: 🏃 View run handsome-loon-280 at: https://mlflow-service-982318063078.us-west2.run.app/#/experiments/2/runs/caad33a02f1d45528e578c5fd03a5dad.\n",
      "\n",
      "2025/04/17 10:31:43 INFO mlflow.tracking._tracking_service.client: 🧪 View experiment at: https://mlflow-service-982318063078.us-west2.run.app/#/experiments/2.\n",
      "\n"
     ]
    },
    {
     "name": "stdout",
     "output_type": "stream",
     "text": [
      " 81%|████████▏ | 26/32 [01:23<00:17,  2.95s/trial, best loss: -0.9913043478260869]"
     ]
    },
    {
     "name": "stderr",
     "output_type": "stream",
     "text": [
      "Registered model 'logistic_regression_wine' already exists. Creating a new version of this model...\n",
      "2025/04/17 10:31:46 INFO mlflow.store.model_registry.abstract_store: Waiting up to 300 seconds for model version to finish creation. Model name: logistic_regression_wine, version 13\n",
      "\n",
      "Created version '13' of model 'logistic_regression_wine'.\n",
      "2025/04/17 10:31:46 WARNING mlflow.models.model: Input example should be provided to infer model signature if the model signature is not provided when logging the model.\n",
      "\n",
      "2025/04/17 10:31:46 INFO mlflow.tracking._tracking_service.client: 🏃 View run enthused-fowl-841 at: https://mlflow-service-982318063078.us-west2.run.app/#/experiments/2/runs/1d2bc93b2a7e477d9f20dc377c0ed822.\n",
      "\n",
      "2025/04/17 10:31:46 INFO mlflow.tracking._tracking_service.client: 🧪 View experiment at: https://mlflow-service-982318063078.us-west2.run.app/#/experiments/2.\n",
      "\n"
     ]
    },
    {
     "name": "stdout",
     "output_type": "stream",
     "text": [
      " 84%|████████▍ | 27/32 [01:26<00:15,  3.01s/trial, best loss: -0.9913043478260869]"
     ]
    },
    {
     "name": "stderr",
     "output_type": "stream",
     "text": [
      "Registered model 'logistic_regression_wine' already exists. Creating a new version of this model...\n",
      "2025/04/17 10:31:49 INFO mlflow.store.model_registry.abstract_store: Waiting up to 300 seconds for model version to finish creation. Model name: logistic_regression_wine, version 14\n",
      "\n",
      "Created version '14' of model 'logistic_regression_wine'.\n",
      "2025/04/17 10:31:49 WARNING mlflow.models.model: Input example should be provided to infer model signature if the model signature is not provided when logging the model.\n",
      "\n",
      "2025/04/17 10:31:49 INFO mlflow.tracking._tracking_service.client: 🏃 View run puzzled-deer-213 at: https://mlflow-service-982318063078.us-west2.run.app/#/experiments/2/runs/5f24bbb7541449db85ed73983388f68f.\n",
      "\n",
      "2025/04/17 10:31:49 INFO mlflow.tracking._tracking_service.client: 🧪 View experiment at: https://mlflow-service-982318063078.us-west2.run.app/#/experiments/2.\n",
      "\n"
     ]
    },
    {
     "name": "stdout",
     "output_type": "stream",
     "text": [
      " 88%|████████▊ | 28/32 [01:29<00:12,  3.06s/trial, best loss: -0.9913043478260869]"
     ]
    },
    {
     "name": "stderr",
     "output_type": "stream",
     "text": [
      "Registered model 'logistic_regression_wine' already exists. Creating a new version of this model...\n",
      "2025/04/17 10:31:52 INFO mlflow.store.model_registry.abstract_store: Waiting up to 300 seconds for model version to finish creation. Model name: logistic_regression_wine, version 15\n",
      "\n",
      "Created version '15' of model 'logistic_regression_wine'.\n",
      "2025/04/17 10:31:52 WARNING mlflow.models.model: Input example should be provided to infer model signature if the model signature is not provided when logging the model.\n",
      "\n",
      "2025/04/17 10:31:52 INFO mlflow.tracking._tracking_service.client: 🏃 View run glamorous-loon-557 at: https://mlflow-service-982318063078.us-west2.run.app/#/experiments/2/runs/0c54db1ebc174f4985b8824996bbbf12.\n",
      "\n",
      "2025/04/17 10:31:52 INFO mlflow.tracking._tracking_service.client: 🧪 View experiment at: https://mlflow-service-982318063078.us-west2.run.app/#/experiments/2.\n",
      "\n"
     ]
    },
    {
     "name": "stdout",
     "output_type": "stream",
     "text": [
      " 91%|█████████ | 29/32 [01:32<00:09,  3.07s/trial, best loss: -0.9913043478260869]"
     ]
    },
    {
     "name": "stderr",
     "output_type": "stream",
     "text": [
      "Registered model 'logistic_regression_wine' already exists. Creating a new version of this model...\n",
      "2025/04/17 10:31:56 INFO mlflow.store.model_registry.abstract_store: Waiting up to 300 seconds for model version to finish creation. Model name: logistic_regression_wine, version 16\n",
      "\n",
      "Created version '16' of model 'logistic_regression_wine'.\n",
      "2025/04/17 10:31:56 WARNING mlflow.models.model: Input example should be provided to infer model signature if the model signature is not provided when logging the model.\n",
      "\n",
      "2025/04/17 10:31:56 INFO mlflow.tracking._tracking_service.client: 🏃 View run puzzled-midge-114 at: https://mlflow-service-982318063078.us-west2.run.app/#/experiments/2/runs/2a5390ccd915498e975e6168e6270e53.\n",
      "\n",
      "2025/04/17 10:31:56 INFO mlflow.tracking._tracking_service.client: 🧪 View experiment at: https://mlflow-service-982318063078.us-west2.run.app/#/experiments/2.\n",
      "\n"
     ]
    },
    {
     "name": "stdout",
     "output_type": "stream",
     "text": [
      " 94%|█████████▍| 30/32 [01:35<00:06,  3.09s/trial, best loss: -0.9913043478260869]"
     ]
    },
    {
     "name": "stderr",
     "output_type": "stream",
     "text": [
      "Registered model 'random_forest_wine' already exists. Creating a new version of this model...\n",
      "2025/04/17 10:31:59 INFO mlflow.store.model_registry.abstract_store: Waiting up to 300 seconds for model version to finish creation. Model name: random_forest_wine, version 5\n",
      "\n",
      "Created version '5' of model 'random_forest_wine'.\n",
      "2025/04/17 10:31:59 WARNING mlflow.models.model: Input example should be provided to infer model signature if the model signature is not provided when logging the model.\n",
      "\n",
      "2025/04/17 10:31:59 INFO mlflow.tracking._tracking_service.client: 🏃 View run mysterious-squid-387 at: https://mlflow-service-982318063078.us-west2.run.app/#/experiments/2/runs/ae014de3122449e8a1de8af955b9508a.\n",
      "\n",
      "2025/04/17 10:31:59 INFO mlflow.tracking._tracking_service.client: 🧪 View experiment at: https://mlflow-service-982318063078.us-west2.run.app/#/experiments/2.\n",
      "\n"
     ]
    },
    {
     "name": "stdout",
     "output_type": "stream",
     "text": [
      " 97%|█████████▋| 31/32 [01:38<00:03,  3.12s/trial, best loss: -0.9913043478260869]"
     ]
    },
    {
     "name": "stderr",
     "output_type": "stream",
     "text": [
      "Registered model 'logistic_regression_wine' already exists. Creating a new version of this model...\n",
      "2025/04/17 10:32:02 INFO mlflow.store.model_registry.abstract_store: Waiting up to 300 seconds for model version to finish creation. Model name: logistic_regression_wine, version 17\n",
      "\n",
      "Created version '17' of model 'logistic_regression_wine'.\n",
      "2025/04/17 10:32:02 WARNING mlflow.models.model: Input example should be provided to infer model signature if the model signature is not provided when logging the model.\n",
      "\n",
      "2025/04/17 10:32:02 INFO mlflow.tracking._tracking_service.client: 🏃 View run loud-koi-409 at: https://mlflow-service-982318063078.us-west2.run.app/#/experiments/2/runs/95ce6fe6884b4c2da13ae4aafe8908a8.\n",
      "\n",
      "2025/04/17 10:32:02 INFO mlflow.tracking._tracking_service.client: 🧪 View experiment at: https://mlflow-service-982318063078.us-west2.run.app/#/experiments/2.\n",
      "\n"
     ]
    },
    {
     "name": "stdout",
     "output_type": "stream",
     "text": [
      "100%|██████████| 32/32 [01:42<00:00,  3.19s/trial, best loss: -0.9913043478260869]\n"
     ]
    }
   ],
   "source": [
    "algo = tpe.suggest\n",
    "trials = Trials()\n",
    "best_result = fmin(\n",
    "        fn=objective, \n",
    "        space=search_space,\n",
    "        algo=algo,\n",
    "        max_evals=32,\n",
    "        trials=trials)"
   ]
  },
  {
   "cell_type": "code",
   "execution_count": 13,
   "metadata": {},
   "outputs": [
    {
     "name": "stderr",
     "output_type": "stream",
     "text": [
      "Successfully registered model 'wine_feature_selector'.\n",
      "2025/04/17 10:21:33 INFO mlflow.store.model_registry.abstract_store: Waiting up to 300 seconds for model version to finish creation. Model name: wine_feature_selector, version 1\n",
      "Created version '1' of model 'wine_feature_selector'.\n",
      "2025/04/17 10:21:33 WARNING mlflow.models.model: Input example should be provided to infer model signature if the model signature is not provided when logging the model.\n",
      "Successfully registered model 'wine_classifier_selected_features'.\n",
      "2025/04/17 10:21:36 INFO mlflow.store.model_registry.abstract_store: Waiting up to 300 seconds for model version to finish creation. Model name: wine_classifier_selected_features, version 1\n",
      "Created version '1' of model 'wine_classifier_selected_features'.\n",
      "2025/04/17 10:21:36 WARNING mlflow.models.model: Input example should be provided to infer model signature if the model signature is not provided when logging the model.\n",
      "2025/04/17 10:21:36 INFO mlflow.tracking._tracking_service.client: 🏃 View run feature_selection at: https://mlflow-service-982318063078.us-west2.run.app/#/experiments/2/runs/6f9f314e2eb842329232a729f1cc9f46.\n",
      "2025/04/17 10:21:36 INFO mlflow.tracking._tracking_service.client: 🧪 View experiment at: https://mlflow-service-982318063078.us-west2.run.app/#/experiments/2.\n"
     ]
    }
   ],
   "source": [
    "with mlflow.start_run(run_name=\"feature_selection\"):\n",
    "    rf_selector = RandomForestClassifier(n_estimators=100, random_state=24)\n",
    "    rf_selector.fit(X_train_scaled, y_train)\n",
    "    \n",
    "    feature_importance = pd.DataFrame({\n",
    "        'feature': X_train_scaled.columns,\n",
    "        'importance': rf_selector.feature_importances_\n",
    "    }).sort_values('importance', ascending=False)\n",
    "    \n",
    "    top_features = feature_importance.head(7)['feature'].tolist()\n",
    "\n",
    "    X_train_selected = X_train_scaled[top_features]\n",
    "    X_val_selected = X_val_scaled[top_features]\n",
    "    X_test_selected = X_test_scaled[top_features]\n",
    "\n",
    "    X_train_selected.to_parquet('save_data_lab2/x_train_selected.parquet')\n",
    "    X_val_selected.to_parquet('save_data_lab2/x_val_selected.parquet')\n",
    "    X_test_selected.to_parquet('save_data_lab2/x_test_selected.parquet')\n",
    "    \n",
    "    rf_selected = RandomForestClassifier(n_estimators=100, random_state=24)\n",
    "    rf_selected.fit(X_train_selected, y_train)\n",
    "    acc_selected = cross_val_score(rf_selected, X_train_selected, y_train, cv=5).mean()\n",
    "    mlflow.log_metric('cv_accuracy_selected_features', acc_selected)\n",
    "    \n",
    "    mlflow.sklearn.log_model(\n",
    "        rf_selector,\n",
    "        artifact_path='feature_selector',\n",
    "        registered_model_name='wine_feature_selector'\n",
    "    )\n",
    "\n",
    "    mlflow.sklearn.log_model(\n",
    "        rf_selected,\n",
    "        artifact_path='selected_features_model',\n",
    "        registered_model_name='wine_classifier_selected_features'\n",
    "    )\n",
    "    \n",
    "    mlflow.end_run()"
   ]
  },
  {
   "cell_type": "markdown",
   "metadata": {},
   "source": [
    "Top 3 models are random forest with max_features = 5 and n_estimators = 429, random forest model with max_features = 2 and n_estimators = 290, and random forest with max_features = 2 and n_estimators = 342."
   ]
  },
  {
   "cell_type": "code",
   "execution_count": 14,
   "metadata": {},
   "outputs": [
    {
     "name": "stderr",
     "output_type": "stream",
     "text": [
      "Successfully registered model 'wine_classifier_final'.\n",
      "2025/04/17 10:22:14 INFO mlflow.store.model_registry.abstract_store: Waiting up to 300 seconds for model version to finish creation. Model name: wine_classifier_final, version 1\n",
      "Created version '1' of model 'wine_classifier_final'.\n",
      "2025/04/17 10:22:14 WARNING mlflow.models.model: Input example should be provided to infer model signature if the model signature is not provided when logging the model.\n",
      "2025/04/17 10:22:14 INFO mlflow.tracking._tracking_service.client: 🏃 View run bouncy-stoat-140 at: https://mlflow-service-982318063078.us-west2.run.app/#/experiments/2/runs/7a04b29aa37b4c208f09e4dcbcc2aa00.\n",
      "2025/04/17 10:22:14 INFO mlflow.tracking._tracking_service.client: 🧪 View experiment at: https://mlflow-service-982318063078.us-west2.run.app/#/experiments/2.\n"
     ]
    },
    {
     "name": "stdout",
     "output_type": "stream",
     "text": [
      "Training Accuracy: 1.0000\n",
      "Validation Accuracy: 0.9655\n",
      "Test Accuracy: 0.9444\n"
     ]
    }
   ],
   "source": [
    "with mlflow.start_run():\n",
    "    mlflow.set_tags({\n",
    "        \"Model\": \"random-forest\",\n",
    "        \"Data\": \"final-comprehensive-logging\"\n",
    "    })\n",
    "    \n",
    "    mlflow.log_params({\n",
    "        \"n_estimators\": 429,\n",
    "        \"max_features\": 5\n",
    "    })\n",
    "    \n",
    "    rf = RandomForestClassifier(n_estimators=429, max_features=5, random_state=24)\n",
    "    rf.fit(X_train_scaled, y_train)\n",
    "\n",
    "    mlflow.log_artifact('save_data_lab2/x_train.parquet', 'training_data')\n",
    "    mlflow.log_artifact('save_data_lab2/y_train.parquet', 'training_data')\n",
    "    \n",
    "    mlflow.log_artifact('save_data_lab2/x_val.parquet', 'validation_data')\n",
    "    mlflow.log_artifact('save_data_lab2/y_val.parquet', 'validation_data')\n",
    "    \n",
    "    mlflow.log_artifact('save_data_lab2/x_test.parquet', 'test_data')\n",
    "    mlflow.log_artifact('save_data_lab2/y_test.parquet', 'test_data')\n",
    "    \n",
    "    train_acc = accuracy_score(y_train, rf.predict(X_train_scaled))\n",
    "    val_acc = accuracy_score(y_val, rf.predict(X_val_scaled))\n",
    "    test_acc = accuracy_score(y_test, rf.predict(X_test_scaled))\n",
    "    \n",
    "    mlflow.log_metrics({\n",
    "        'train_accuracy': train_acc,\n",
    "        'validation_accuracy': val_acc,\n",
    "        'test_accuracy': test_acc\n",
    "    })\n",
    "    \n",
    "    mlflow.sklearn.log_model(\n",
    "        rf, \n",
    "        artifact_path=\"random_forest_model\",\n",
    "        registered_model_name=\"wine_classifier_final\"\n",
    "    )\n",
    "    \n",
    "    print(f\"Training Accuracy: {train_acc:.4f}\")\n",
    "    print(f\"Validation Accuracy: {val_acc:.4f}\")\n",
    "    print(f\"Test Accuracy: {test_acc:.4f}\")\n",
    "\n",
    "mlflow.end_run()"
   ]
  },
  {
   "cell_type": "code",
   "execution_count": null,
   "metadata": {},
   "outputs": [],
   "source": []
  }
 ],
 "metadata": {
  "kernelspec": {
   "display_name": "mlops",
   "language": "python",
   "name": "python3"
  },
  "language_info": {
   "codemirror_mode": {
    "name": "ipython",
    "version": 3
   },
   "file_extension": ".py",
   "mimetype": "text/x-python",
   "name": "python",
   "nbconvert_exporter": "python",
   "pygments_lexer": "ipython3",
   "version": "3.12.9"
  }
 },
 "nbformat": 4,
 "nbformat_minor": 2
}
